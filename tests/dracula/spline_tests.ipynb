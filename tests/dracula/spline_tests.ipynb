{
 "cells": [
  {
   "cell_type": "code",
   "execution_count": 1,
   "metadata": {},
   "outputs": [],
   "source": [
    "import numpy as np\n",
    "import toppra.dracula as drac\n",
    "import toppra as ta\n",
    "import toppra.algorithm as algo\n",
    "from toppra import constraint\n",
    "from toppra.dracula import RunTopp, V_MAX, A_MAX, _check_waypoints"
   ]
  },
  {
   "cell_type": "code",
   "execution_count": 2,
   "metadata": {},
   "outputs": [],
   "source": [
    "import re\n",
    "import ast\n",
    "import numpy as np\n",
    "\n",
    "def parse_str_arr(s):\n",
    "    a = re.sub(r\"([^[])\\s+([^]])\", r\"\\1, \\2\", s)\n",
    "    return np.array(ast.literal_eval(a))"
   ]
  },
  {
   "cell_type": "code",
   "execution_count": 14,
   "metadata": {},
   "outputs": [],
   "source": [
    "waypts = np.loadtxt('test_waypts_4.txt')\n",
    "coeff = 1\n",
    "vlim = coeff * np.vstack([-V_MAX, V_MAX]).T\n",
    "alim = coeff * np.vstack([-A_MAX, A_MAX]).T"
   ]
  },
  {
   "cell_type": "code",
   "execution_count": 10,
   "metadata": {},
   "outputs": [],
   "source": [
    "min_pair_dist, t_sum = _check_waypoints(waypts, vlim)"
   ]
  },
  {
   "cell_type": "code",
   "execution_count": 11,
   "metadata": {},
   "outputs": [
    {
     "data": {
      "text/plain": [
       "0.064046801532567"
      ]
     },
     "execution_count": 11,
     "metadata": {},
     "output_type": "execute_result"
    }
   ],
   "source": [
    "t_sum"
   ]
  },
  {
   "cell_type": "code",
   "execution_count": 103,
   "metadata": {},
   "outputs": [
    {
     "name": "stderr",
     "output_type": "stream",
     "text": [
      " INFO [algorithm.py : 100] No gridpoint specified. Automatically choose a gridpoint with 82 points\n",
      " INFO [algorithm.py : 185] Successfully parametrize path. Duration: 236.208, previously 0.150)\n",
      " INFO [algorithm.py : 186] Finish parametrization in 0.006 secs\n"
     ]
    },
    {
     "data": {
      "text/plain": [
       "array([0.00000000e+00, 3.16199586e-02, 4.60807571e-02, 6.98534902e-02,\n",
       "       8.96981238e-02, 1.09219610e-01, 1.19978013e-01, 1.31548412e-01,\n",
       "       1.43994573e-01, 1.57206783e-01, 1.71047139e-01, 1.85690955e-01,\n",
       "       2.00384167e-01, 2.14353549e-01, 2.40340844e-01, 2.63714702e-01,\n",
       "       2.86547900e-01, 2.98676786e-01, 3.11448229e-01, 3.24832863e-01,\n",
       "       3.38772825e-01, 3.52667365e-01, 3.65999132e-01, 3.78726769e-01,\n",
       "       3.90799480e-01, 4.02279883e-01, 4.13126165e-01, 4.32822977e-01,\n",
       "       4.49881651e-01, 4.66819611e-01, 4.76227395e-01, 4.85987430e-01,\n",
       "       4.95860630e-01, 5.05312706e-01, 5.14130230e-01, 5.22532177e-01,\n",
       "       5.38172225e-01, 5.52096914e-01, 5.78110499e-01, 5.92391505e-01,\n",
       "       6.05885490e-01, 6.17255324e-01, 6.27890502e-01, 6.38366510e-01,\n",
       "       6.49605584e-01, 6.62253222e-01, 6.76260358e-01, 6.90817410e-01,\n",
       "       7.04814861e-01, 7.31597208e-01, 7.45523006e-01, 7.60113422e-01,\n",
       "       7.74783405e-01, 7.87926466e-01, 8.08726169e-01, 8.41283647e-01,\n",
       "       8.74613190e-01, 8.92095290e-01, 1.03712166e+00, 1.05320491e+00,\n",
       "       1.06444169e+00, 1.07713570e+00, 1.09148552e+00, 1.10843881e+00,\n",
       "       1.11894332e+00, 1.13072957e+00, 1.15415470e+00, 1.17657930e+00,\n",
       "       1.20213945e+00, 1.22493849e+00, 1.24047909e+00, 1.26586875e+00,\n",
       "       1.28855147e+00, 1.31515771e+00, 1.33157203e+00, 1.35272109e+00,\n",
       "       1.36976313e+00, 1.37865582e+00, 1.38740896e+00, 1.40721486e+00,\n",
       "       1.43131806e+00, 2.36207851e+02])"
      ]
     },
     "execution_count": 103,
     "metadata": {},
     "output_type": "execute_result"
    }
   ],
   "source": [
    "N_samples = waypts.shape[0]\n",
    "min_pair_dist, t_sum = _check_waypoints(waypts, vlim)\n",
    "x = np.linspace(0, 0.15, N_samples)  # magic number\n",
    "path = ta.SplineInterpolator(x, waypts.copy(), bc_type=\"clamped\")\n",
    "pc_vel = constraint.JointVelocityConstraint(vlim)\n",
    "pc_acc = constraint.JointAccelerationConstraint(\n",
    "    alim, discretization_scheme=constraint.DiscretizationType.Interpolation\n",
    ")\n",
    "instance = algo.TOPPRA(\n",
    "    [pc_vel, pc_acc],\n",
    "    path,\n",
    "    # gridpoints=gridpoints,\n",
    "    solver_wrapper=\"seidel\",\n",
    ")\n",
    "jnt_traj = instance.compute_trajectory(0, 0)\n",
    "jnt_traj.cspl.x"
   ]
  },
  {
   "cell_type": "code",
   "execution_count": 113,
   "metadata": {},
   "outputs": [],
   "source": [
    "cs = jnt_traj.cspl\n",
    "x = cs.x\n",
    "vlim = vlim[:, 1]"
   ]
  },
  {
   "cell_type": "code",
   "execution_count": 114,
   "metadata": {},
   "outputs": [
    {
     "data": {
      "text/plain": [
       "array([1.0875, 1.0875, 1.0875, 1.0875, 1.305 , 1.305 , 1.305 ])"
      ]
     },
     "execution_count": 114,
     "metadata": {},
     "output_type": "execute_result"
    }
   ],
   "source": [
    "vlim"
   ]
  },
  {
   "cell_type": "code",
   "execution_count": 119,
   "metadata": {},
   "outputs": [
    {
     "data": {
      "text/plain": [
       "False"
      ]
     },
     "execution_count": 119,
     "metadata": {},
     "output_type": "execute_result"
    }
   ],
   "source": [
    "(np.abs(cs.derivative(1)(x))/vlim > 1).any()"
   ]
  },
  {
   "cell_type": "code",
   "execution_count": null,
   "metadata": {},
   "outputs": [],
   "source": [
    "data = np.load('/data/toppra/20201204T175646.794406+0000.npz')\n",
    "waypts = data['waypts']\n",
    "vlim = data['vlim']\n",
    "alim = data['alim']\n",
    "vmax = vlim[:, 1]\n",
    "amax = alim[:, 1]"
   ]
  },
  {
   "cell_type": "code",
   "execution_count": 25,
   "metadata": {},
   "outputs": [],
   "source": [
    "waypts = np.array([\n",
    "[ 0.1088, -1.5201,  1.1266, -2.6961,  1.1851,  1.5092, -1.8498],\n",
    "[-0.5517, -0.5657,  1.7334, -1.8182,  0.5651,  1.5971, -1.1968],\n",
    "])\n",
    "vmax = np.array([0.54375, 0.54375, 0.54375, 0.54375,  0.6525,  0.6525,  0.6525])\n",
    "amax = np.array([ 3.75, 1.875,   2.5, 3.125,  3.75,     5,     5])\n",
    "vlim = np.vstack([-vmax, vmax]).T\n",
    "alim = np.vstack([-amax, amax]).T"
   ]
  },
  {
   "cell_type": "code",
   "execution_count": null,
   "metadata": {},
   "outputs": [],
   "source": [
    "cs = RunTopp(waypts, vlim, alim, return_cs=True, verify_lims=True)"
   ]
  },
  {
   "cell_type": "code",
   "execution_count": 95,
   "metadata": {},
   "outputs": [],
   "source": [
    "order = 1\n",
    "lim = vlim*0.893\n",
    "deriv = cs.derivative(order)(cs.x)\n",
    "deriv[13, 1] *= -1  # debug\n",
    "i, j = np.where(~((lim[:, 0] < deriv) & (deriv < lim[:, 1])))\n",
    "signed_lim = np.where(deriv > 0, lim[:, 1], lim[:, 0])\n",
    "excess = np.sign(deriv) * (deriv - signed_lim)  # want the +ve entries\n",
    "excess_percent = excess / np.abs(signed_lim)  # want +ve entries"
   ]
  },
  {
   "cell_type": "code",
   "execution_count": 85,
   "metadata": {},
   "outputs": [
    {
     "data": {
      "text/plain": [
       "array([-1.49205744e-01,  4.64335721e-04, -1.76552744e-01, -3.84936809e-02,\n",
       "       -2.66944326e-01, -5.37918975e-01, -2.50138907e-01])"
      ]
     },
     "execution_count": 85,
     "metadata": {},
     "output_type": "execute_result"
    }
   ],
   "source": [
    "(np.sign(deriv) * (deriv - signed_lim))[13]"
   ]
  },
  {
   "cell_type": "code",
   "execution_count": 83,
   "metadata": {},
   "outputs": [
    {
     "data": {
      "text/plain": [
       "array([ 1.49205744e-01, -4.64335721e-04, -1.76552744e-01, -3.84936809e-02,\n",
       "        2.66944326e-01, -5.37918975e-01, -2.50138907e-01])"
      ]
     },
     "execution_count": 83,
     "metadata": {},
     "output_type": "execute_result"
    }
   ],
   "source": [
    "(deriv - signed_lim)[13]"
   ]
  },
  {
   "cell_type": "code",
   "execution_count": 64,
   "metadata": {},
   "outputs": [
    {
     "data": {
      "text/plain": [
       "array([[-0.48556875,  0.48556875],\n",
       "       [-0.48556875,  0.48556875],\n",
       "       [-0.48556875,  0.48556875],\n",
       "       [-0.48556875,  0.48556875],\n",
       "       [-0.5826825 ,  0.5826825 ],\n",
       "       [-0.5826825 ,  0.5826825 ],\n",
       "       [-0.5826825 ,  0.5826825 ]])"
      ]
     },
     "execution_count": 64,
     "metadata": {},
     "output_type": "execute_result"
    }
   ],
   "source": [
    "lim"
   ]
  },
  {
   "cell_type": "code",
   "execution_count": 5,
   "metadata": {},
   "outputs": [
    {
     "data": {
      "text/plain": [
       "array([ 4.67432654e-01, -9.83477545e-05,  4.53298958e-01,  2.05413889e-01,\n",
       "        6.41458630e-01,  3.03419892e-01,  4.19086688e-01])"
      ]
     },
     "execution_count": 5,
     "metadata": {},
     "output_type": "execute_result"
    }
   ],
   "source": [
    "vmax - np.abs(cs.derivative(1)(cs.x))[21,:]"
   ]
  },
  {
   "cell_type": "code",
   "execution_count": 7,
   "metadata": {},
   "outputs": [
    {
     "name": "stderr",
     "output_type": "stream",
     "text": [
      " INFO [__init__.py : 60] Debug environment detected, input data saved to: /data/toppra/20201204T175318.489327+0000.npz\n",
      " INFO [algorithm.py : 100] No gridpoint specified. Automatically choose a gridpoint with 73 points\n",
      " INFO [algorithm.py : 185] Successfully parametrize path. Duration: 1.377, previously 0.217)\n",
      " INFO [algorithm.py : 186] Finish parametrization in 0.012 secs\n",
      " INFO [__init__.py : 189] Returning optimised cubic spline trajectory of 77 knots\n"
     ]
    }
   ],
   "source": [
    "cs = RunTopp(waypts, vlim, alim, return_cspl=True)"
   ]
  },
  {
   "cell_type": "code",
   "execution_count": 56,
   "metadata": {},
   "outputs": [
    {
     "data": {
      "text/plain": [
       "(9, 7)"
      ]
     },
     "execution_count": 56,
     "metadata": {},
     "output_type": "execute_result"
    }
   ],
   "source": [
    "new_waypts = cs(cs.x)\n",
    "new_waypts.shape"
   ]
  },
  {
   "cell_type": "code",
   "execution_count": 57,
   "metadata": {},
   "outputs": [
    {
     "name": "stderr",
     "output_type": "stream",
     "text": [
      " INFO [__init__.py : 60] Debug environment detected, input data saved to: /data/toppra/20201204T160342.125263+0000.npz\n",
      "WARNING [__init__.py : 85] Duplicates found in input waypoints. This is not recommended, especially for the beginning and the end of the trajectory. Toppra might throw a controllability exception. Attempting to optimise trajectory anyway...\n",
      " INFO [algorithm.py : 100] No gridpoint specified. Automatically choose a gridpoint with 5 points\n",
      " INFO [algorithm.py : 185] Successfully parametrize path. Duration: 0.095, previously 0.150)\n",
      " INFO [algorithm.py : 186] Finish parametrization in 0.002 secs\n"
     ]
    }
   ],
   "source": [
    "new_cs = RunTopp(new_waypts, vlim, alim, return_cspl=True)"
   ]
  }
 ],
 "metadata": {
  "kernelspec": {
   "display_name": "Python 3",
   "language": "python",
   "name": "python3"
  },
  "language_info": {
   "codemirror_mode": {
    "name": "ipython",
    "version": 3
   },
   "file_extension": ".py",
   "mimetype": "text/x-python",
   "name": "python",
   "nbconvert_exporter": "python",
   "pygments_lexer": "ipython3",
   "version": "3.6.9"
  }
 },
 "nbformat": 4,
 "nbformat_minor": 4
}
