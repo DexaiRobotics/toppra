{
 "cells": [
  {
   "cell_type": "code",
   "execution_count": 1,
   "metadata": {},
   "outputs": [],
   "source": [
    "import numpy as np\n",
    "import toppra.dracula as drac\n",
    "import toppra as ta\n",
    "import toppra.algorithm as algo\n",
    "from toppra import constraint\n",
    "from toppra.dracula import RunTopp, V_MAX, A_MAX, _check_waypoints"
   ]
  },
  {
   "cell_type": "code",
   "execution_count": 2,
   "metadata": {},
   "outputs": [],
   "source": [
    "import re\n",
    "import ast\n",
    "import numpy as np\n",
    "\n",
    "def parse_str_arr(s):\n",
    "    a = re.sub(r\"([^[])\\s+([^]])\", r\"\\1, \\2\", s)\n",
    "    return np.array(ast.literal_eval(a))"
   ]
  },
  {
   "cell_type": "code",
   "execution_count": 48,
   "metadata": {},
   "outputs": [],
   "source": [
    "waypts = np.loadtxt('test_waypts_3.txt')\n",
    "coeff = 0.5\n",
    "vlim = coeff * np.vstack([-V_MAX, V_MAX]).T\n",
    "alim = coeff * np.vstack([-A_MAX, A_MAX]).T"
   ]
  },
  {
   "cell_type": "code",
   "execution_count": 39,
   "metadata": {},
   "outputs": [
    {
     "data": {
      "text/plain": [
       "array([[-1.14793 ,  1.63924 , -0.766674, -0.793794,  0.744133,  2.9017  ,\n",
       "         0.784708],\n",
       "       [-1.14818 ,  1.63814 , -0.766265, -0.79508 ,  0.743997,  2.90035 ,\n",
       "         0.78471 ]])"
      ]
     },
     "execution_count": 39,
     "metadata": {},
     "output_type": "execute_result"
    }
   ],
   "source": [
    "waypts"
   ]
  },
  {
   "cell_type": "code",
   "execution_count": 18,
   "metadata": {},
   "outputs": [],
   "source": [
    "data = np.load('/data/toppra/20201204T144956.604020+0000.npz')\n",
    "waypts = data['waypts']\n",
    "vlim = data['vlim']\n",
    "alim = data['alim']\n",
    "# print(f\"waypts:\\n{waypts}\\nvlim\\n{vlim}\\nalim\\n{alim}\")"
   ]
  },
  {
   "cell_type": "code",
   "execution_count": 17,
   "metadata": {},
   "outputs": [
    {
     "data": {
      "text/plain": [
       "array([[-0.5383125,  0.5383125],\n",
       "       [-0.5383125,  0.5383125],\n",
       "       [-0.5383125,  0.5383125],\n",
       "       [-0.5383125,  0.5383125],\n",
       "       [-0.645975 ,  0.645975 ],\n",
       "       [-0.645975 ,  0.645975 ],\n",
       "       [-0.645975 ,  0.645975 ]])"
      ]
     },
     "execution_count": 17,
     "metadata": {},
     "output_type": "execute_result"
    }
   ],
   "source": [
    "data['vlim']"
   ]
  },
  {
   "cell_type": "code",
   "execution_count": 100,
   "metadata": {},
   "outputs": [],
   "source": [
    "min_pair_dist, t_sum = _check_waypoints(waypts, vlim)"
   ]
  },
  {
   "cell_type": "code",
   "execution_count": 101,
   "metadata": {},
   "outputs": [
    {
     "data": {
      "text/plain": [
       "0.21726608429118774"
      ]
     },
     "execution_count": 101,
     "metadata": {},
     "output_type": "execute_result"
    }
   ],
   "source": [
    "t_sum"
   ]
  },
  {
   "cell_type": "code",
   "execution_count": 103,
   "metadata": {},
   "outputs": [
    {
     "name": "stderr",
     "output_type": "stream",
     "text": [
      " INFO [algorithm.py : 100] No gridpoint specified. Automatically choose a gridpoint with 82 points\n",
      " INFO [algorithm.py : 185] Successfully parametrize path. Duration: 236.208, previously 0.150)\n",
      " INFO [algorithm.py : 186] Finish parametrization in 0.006 secs\n"
     ]
    },
    {
     "data": {
      "text/plain": [
       "array([0.00000000e+00, 3.16199586e-02, 4.60807571e-02, 6.98534902e-02,\n",
       "       8.96981238e-02, 1.09219610e-01, 1.19978013e-01, 1.31548412e-01,\n",
       "       1.43994573e-01, 1.57206783e-01, 1.71047139e-01, 1.85690955e-01,\n",
       "       2.00384167e-01, 2.14353549e-01, 2.40340844e-01, 2.63714702e-01,\n",
       "       2.86547900e-01, 2.98676786e-01, 3.11448229e-01, 3.24832863e-01,\n",
       "       3.38772825e-01, 3.52667365e-01, 3.65999132e-01, 3.78726769e-01,\n",
       "       3.90799480e-01, 4.02279883e-01, 4.13126165e-01, 4.32822977e-01,\n",
       "       4.49881651e-01, 4.66819611e-01, 4.76227395e-01, 4.85987430e-01,\n",
       "       4.95860630e-01, 5.05312706e-01, 5.14130230e-01, 5.22532177e-01,\n",
       "       5.38172225e-01, 5.52096914e-01, 5.78110499e-01, 5.92391505e-01,\n",
       "       6.05885490e-01, 6.17255324e-01, 6.27890502e-01, 6.38366510e-01,\n",
       "       6.49605584e-01, 6.62253222e-01, 6.76260358e-01, 6.90817410e-01,\n",
       "       7.04814861e-01, 7.31597208e-01, 7.45523006e-01, 7.60113422e-01,\n",
       "       7.74783405e-01, 7.87926466e-01, 8.08726169e-01, 8.41283647e-01,\n",
       "       8.74613190e-01, 8.92095290e-01, 1.03712166e+00, 1.05320491e+00,\n",
       "       1.06444169e+00, 1.07713570e+00, 1.09148552e+00, 1.10843881e+00,\n",
       "       1.11894332e+00, 1.13072957e+00, 1.15415470e+00, 1.17657930e+00,\n",
       "       1.20213945e+00, 1.22493849e+00, 1.24047909e+00, 1.26586875e+00,\n",
       "       1.28855147e+00, 1.31515771e+00, 1.33157203e+00, 1.35272109e+00,\n",
       "       1.36976313e+00, 1.37865582e+00, 1.38740896e+00, 1.40721486e+00,\n",
       "       1.43131806e+00, 2.36207851e+02])"
      ]
     },
     "execution_count": 103,
     "metadata": {},
     "output_type": "execute_result"
    }
   ],
   "source": [
    "N_samples = waypts.shape[0]\n",
    "min_pair_dist, t_sum = _check_waypoints(waypts, vlim)\n",
    "x = np.linspace(0, 0.15, N_samples)  # magic number\n",
    "path = ta.SplineInterpolator(x, waypts.copy(), bc_type=\"clamped\")\n",
    "pc_vel = constraint.JointVelocityConstraint(vlim)\n",
    "pc_acc = constraint.JointAccelerationConstraint(\n",
    "    alim, discretization_scheme=constraint.DiscretizationType.Interpolation\n",
    ")\n",
    "instance = algo.TOPPRA(\n",
    "    [pc_vel, pc_acc],\n",
    "    path,\n",
    "    # gridpoints=gridpoints,\n",
    "    solver_wrapper=\"seidel\",\n",
    ")\n",
    "jnt_traj = instance.compute_trajectory(0, 0)\n",
    "jnt_traj.cspl.x"
   ]
  },
  {
   "cell_type": "code",
   "execution_count": 113,
   "metadata": {},
   "outputs": [],
   "source": [
    "cs = jnt_traj.cspl\n",
    "x = cs.x\n",
    "vlim = vlim[:, 1]"
   ]
  },
  {
   "cell_type": "code",
   "execution_count": 114,
   "metadata": {},
   "outputs": [
    {
     "data": {
      "text/plain": [
       "array([1.0875, 1.0875, 1.0875, 1.0875, 1.305 , 1.305 , 1.305 ])"
      ]
     },
     "execution_count": 114,
     "metadata": {},
     "output_type": "execute_result"
    }
   ],
   "source": [
    "vlim"
   ]
  },
  {
   "cell_type": "code",
   "execution_count": 119,
   "metadata": {},
   "outputs": [
    {
     "data": {
      "text/plain": [
       "False"
      ]
     },
     "execution_count": 119,
     "metadata": {},
     "output_type": "execute_result"
    }
   ],
   "source": [
    "(np.abs(cs.derivative(1)(x))/vlim > 1).any()"
   ]
  },
  {
   "cell_type": "code",
   "execution_count": 2,
   "metadata": {},
   "outputs": [],
   "source": [
    "waypts = np.array([\n",
    "[  -1.36967,    0.70179, -0.0312555,   -1.66143, -0.0937177,    1.74777,   0.861107],\n",
    "[  -1.36984,   0.719352, -0.0312674,   -1.65578, -0.0936816,    1.74725,   0.862961],\n",
    "[     -1.37,    0.73693, -0.0312514,   -1.64963,  -0.093625,    1.74677,   0.866031],\n",
    "[  -1.37013,   0.754249, -0.0311754,   -1.64326, -0.0936026,    1.74641,   0.871362],\n",
    "[   -1.3702,   0.770595, -0.0310192,   -1.63715, -0.0936601,    1.74621,   0.879502],\n",
    "[  -1.37024,   0.786312, -0.0307889,   -1.63132, -0.0937787,    1.74612,   0.890403],\n",
    "[  -1.37026,   0.802591, -0.0305029,   -1.62542, -0.0938774,    1.74602,   0.904025],\n",
    "[  -1.37032,   0.819782, -0.0301943,   -1.61945, -0.0938451,    1.74574,   0.919921],\n",
    "[  -1.37042,   0.836643, -0.0298762,   -1.61395, -0.0936258,    1.74529,   0.935952],\n",
    "[  -1.37049,   0.852481, -0.0294009,   -1.60926, -0.0933568,    1.74517,   0.950451],\n",
    "[  -1.37048,   0.867246, -0.0286046,   -1.60548, -0.0931964,    1.74586,   0.962663],\n",
    "[  -1.37032,   0.880987, -0.0273796,   -1.60263, -0.0932485,    1.74768,   0.972146],\n",
    "[  -1.37007,   0.893714, -0.0258217,   -1.60061, -0.0934865,    1.75056,   0.978964],\n",
    "[  -1.36984,   0.905399, -0.0242404,    -1.5992, -0.0937489,    1.75404,   0.983667],\n",
    "[  -1.36974,   0.916055,  -0.022901,   -1.59822, -0.0938926,    1.75774,   0.986702],\n",
    "[  -1.36988,   0.925686, -0.0220625,   -1.59753, -0.0937757,    1.76138,   0.988383],\n",
    "[  -1.37034,   0.934221, -0.0218843,   -1.59704, -0.0933034,    1.76469,   0.988942],\n",
    "[  -1.37105,    0.94166, -0.0222157,   -1.59676, -0.0925256,    1.76759,    0.98864],\n",
    "[  -1.37191,   0.948023, -0.0228089,   -1.59673,  -0.091541,    1.77005,   0.987796],\n",
    "[  -1.37364,   0.957582, -0.0237548,   -1.59744, -0.0894406,    1.77346,   0.985888],\n",
    "[  -1.37503,   0.963847, -0.0240086,   -1.59871, -0.0876124,    1.77532,   0.984542]\n",
    "])\n",
    "vmax = np.array([0.538312, 0.538312, 0.538312, 0.538312, 0.645975, 0.645975, 0.645975])\n",
    "amax = np.array([6.375, 3.1875,   4.25, 5.3125,  6.375,    8.5,    8.5])\n",
    "vlim = np.vstack([-vmax, vmax]).T\n",
    "alim = np.vstack([-amax, amax]).T"
   ]
  },
  {
   "cell_type": "code",
   "execution_count": 52,
   "metadata": {},
   "outputs": [
    {
     "name": "stderr",
     "output_type": "stream",
     "text": [
      " INFO [__init__.py : 60] Debug environment detected, input data saved to: /data/toppra/20201204T160314.822441+0000.npz\n",
      " INFO [algorithm.py : 100] No gridpoint specified. Automatically choose a gridpoint with 5 points\n",
      " INFO [algorithm.py : 185] Successfully parametrize path. Duration: 0.055, previously 0.150)\n",
      " INFO [algorithm.py : 186] Finish parametrization in 0.002 secs\n"
     ]
    }
   ],
   "source": [
    "cs = RunTopp(waypts, vlim, alim, return_cspl=True)"
   ]
  },
  {
   "cell_type": "code",
   "execution_count": 22,
   "metadata": {},
   "outputs": [
    {
     "data": {
      "text/plain": [
       "(array([], dtype=int64), array([], dtype=int64))"
      ]
     },
     "execution_count": 22,
     "metadata": {},
     "output_type": "execute_result"
    }
   ],
   "source": [
    "np.where(np.abs(cs.derivative(1)(cs.x)) > vmax)"
   ]
  },
  {
   "cell_type": "code",
   "execution_count": 25,
   "metadata": {},
   "outputs": [
    {
     "data": {
      "text/plain": [
       "array([0.54291996, 0.01194971, 0.53422802, 0.35166617, 0.64943048,\n",
       "       0.64899212, 0.19915499])"
      ]
     },
     "execution_count": 25,
     "metadata": {},
     "output_type": "execute_result"
    }
   ],
   "source": [
    "vmax - np.abs(cs.derivative(1)(cs.x))[15,:]"
   ]
  },
  {
   "cell_type": "code",
   "execution_count": 54,
   "metadata": {},
   "outputs": [
    {
     "data": {
      "text/plain": [
       "(2, 7)"
      ]
     },
     "execution_count": 54,
     "metadata": {},
     "output_type": "execute_result"
    }
   ],
   "source": [
    "waypts.shape"
   ]
  },
  {
   "cell_type": "code",
   "execution_count": 55,
   "metadata": {},
   "outputs": [
    {
     "name": "stderr",
     "output_type": "stream",
     "text": [
      " INFO [__init__.py : 60] Debug environment detected, input data saved to: /data/toppra/20201204T160332.850619+0000.npz\n",
      " INFO [algorithm.py : 100] No gridpoint specified. Automatically choose a gridpoint with 5 points\n",
      " INFO [algorithm.py : 185] Successfully parametrize path. Duration: 0.055, previously 0.150)\n",
      " INFO [algorithm.py : 186] Finish parametrization in 0.004 secs\n"
     ]
    }
   ],
   "source": [
    "cs = RunTopp(waypts, vlim, alim, return_cspl=True)"
   ]
  },
  {
   "cell_type": "code",
   "execution_count": 56,
   "metadata": {},
   "outputs": [
    {
     "data": {
      "text/plain": [
       "(9, 7)"
      ]
     },
     "execution_count": 56,
     "metadata": {},
     "output_type": "execute_result"
    }
   ],
   "source": [
    "new_waypts = cs(cs.x)\n",
    "new_waypts.shape"
   ]
  },
  {
   "cell_type": "code",
   "execution_count": 57,
   "metadata": {},
   "outputs": [
    {
     "name": "stderr",
     "output_type": "stream",
     "text": [
      " INFO [__init__.py : 60] Debug environment detected, input data saved to: /data/toppra/20201204T160342.125263+0000.npz\n",
      "WARNING [__init__.py : 85] Duplicates found in input waypoints. This is not recommended, especially for the beginning and the end of the trajectory. Toppra might throw a controllability exception. Attempting to optimise trajectory anyway...\n",
      " INFO [algorithm.py : 100] No gridpoint specified. Automatically choose a gridpoint with 5 points\n",
      " INFO [algorithm.py : 185] Successfully parametrize path. Duration: 0.095, previously 0.150)\n",
      " INFO [algorithm.py : 186] Finish parametrization in 0.002 secs\n"
     ]
    }
   ],
   "source": [
    "new_cs = RunTopp(new_waypts, vlim, alim, return_cspl=True)"
   ]
  }
 ],
 "metadata": {
  "kernelspec": {
   "display_name": "Python 3",
   "language": "python",
   "name": "python3"
  },
  "language_info": {
   "codemirror_mode": {
    "name": "ipython",
    "version": 3
   },
   "file_extension": ".py",
   "mimetype": "text/x-python",
   "name": "python",
   "nbconvert_exporter": "python",
   "pygments_lexer": "ipython3",
   "version": "3.6.9"
  }
 },
 "nbformat": 4,
 "nbformat_minor": 4
}
