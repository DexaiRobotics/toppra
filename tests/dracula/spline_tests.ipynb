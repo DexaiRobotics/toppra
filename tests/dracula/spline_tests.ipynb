{
 "cells": [
  {
   "cell_type": "code",
   "execution_count": 1,
   "metadata": {},
   "outputs": [],
   "source": [
    "import numpy as np\n",
    "from toppra.dracula import RunTopp\n",
    "import toppra as ta\n",
    "import toppra.algorithm as algo\n",
    "from toppra import constraint\n",
    "from toppra.dracula import RunTopp, V_MAX, A_MAX, _check_waypoints"
   ]
  },
  {
   "cell_type": "code",
   "execution_count": 2,
   "metadata": {},
   "outputs": [],
   "source": [
    "import re\n",
    "import ast\n",
    "import numpy as np\n",
    "\n",
    "def parse_str_arr(s):\n",
    "    a = re.sub(r\"([^[])\\s+([^]])\", r\"\\1, \\2\", s)\n",
    "    return np.array(ast.literal_eval(a))"
   ]
  },
  {
   "cell_type": "code",
   "execution_count": 10,
   "metadata": {},
   "outputs": [],
   "source": [
    "waypts = np.loadtxt('test_waypts_2.txt')\n",
    "coeff = 0.05\n",
    "vlim = coeff * np.vstack([-V_MAX, V_MAX]).T\n",
    "alim = coeff * np.vstack([-A_MAX, A_MAX]).T"
   ]
  },
  {
   "cell_type": "code",
   "execution_count": 11,
   "metadata": {},
   "outputs": [],
   "source": [
    "min_pair_dist, t_sum = _check_waypoints(waypts, vlim)"
   ]
  },
  {
   "cell_type": "code",
   "execution_count": 12,
   "metadata": {},
   "outputs": [
    {
     "data": {
      "text/plain": [
       "4.150382220973457"
      ]
     },
     "execution_count": 12,
     "metadata": {},
     "output_type": "execute_result"
    }
   ],
   "source": [
    "t_sum"
   ]
  },
  {
   "cell_type": "code",
   "execution_count": 16,
   "metadata": {},
   "outputs": [
    {
     "data": {
      "text/plain": [
       "array([0.        , 0.06254969, 0.08479917, 0.14550188, 0.20779062,\n",
       "       0.26255584, 0.31762417, 0.37437734, 0.43143142, 0.48949317,\n",
       "       0.60766725, 0.66419032, 0.7187898 , 0.77317703, 0.8278153 ,\n",
       "       0.8842258 , 0.94330766, 1.00492471, 1.06400268, 1.11780643,\n",
       "       1.17361668, 1.225299  , 1.26497913, 1.32615559, 1.35743538,\n",
       "       1.39307066, 1.42678003, 1.4601496 , 1.53643994, 1.58576961,\n",
       "       1.63070458, 1.67079042, 1.71632856, 1.76889085, 1.81748922,\n",
       "       1.86501555, 1.91839386, 1.97154503, 1.99872731, 2.02635416,\n",
       "       2.08148229, 2.13495696, 2.18593507, 2.23784549, 2.26587575,\n",
       "       2.29538944, 2.32542873, 2.3550308 , 2.38404065, 2.41245627,\n",
       "       2.4402592 , 2.46831962, 2.49904266, 2.53392812, 2.61238753,\n",
       "       2.78517   , 2.96223107, 3.04654196, 3.1191365 , 3.14935713,\n",
       "       3.17733388, 3.20540442, 3.23356902, 3.261827  , 3.29017772,\n",
       "       3.31862219, 3.34703083, 3.37496544, 3.40215839, 3.43040495,\n",
       "       3.46215571, 3.60451687, 3.63986273, 3.67157976, 3.70154695,\n",
       "       3.73125652, 3.76070968, 3.78990438, 3.81883609, 3.84750901,\n",
       "       3.8758744 , 3.90358252, 3.93096606, 3.96030443, 4.02842963,\n",
       "       4.10312711, 4.17084536, 4.20151302, 4.23185511, 4.26194418,\n",
       "       4.29177552, 4.32134497, 4.35065934, 4.37971366, 4.40848904,\n",
       "       4.43652407, 4.46538297, 4.53104763, 4.60357344, 4.67251429,\n",
       "       4.70349851, 4.7335025 , 4.76372581, 4.79379528, 4.82371004,\n",
       "       4.85346846, 4.88307216, 4.91252034, 4.94181138, 4.97122554,\n",
       "       5.03613096, 5.1095718 , 5.18160409, 5.21442198, 5.24461194,\n",
       "       5.27415971, 5.30403581, 5.33387701, 5.36368327, 5.3934545 ,\n",
       "       5.42319079, 5.45289209, 5.48255833, 5.59755789, 5.62443049,\n",
       "       5.65021871, 5.67575348, 5.70103704, 5.72606358, 5.75082823,\n",
       "       5.77533925, 5.79925747, 5.84800122, 5.90101027, 5.95882597,\n",
       "       6.01669722, 6.07039163, 6.1206751 , 6.16657675, 6.20609223,\n",
       "       6.24138614, 6.27859136, 6.32432928, 6.37512466, 6.42204673,\n",
       "       6.46661187, 6.5144707 , 6.57240482, 6.62761359, 6.6737351 ,\n",
       "       6.72021896, 6.76113724, 6.79407901, 6.85569011])"
      ]
     },
     "execution_count": 16,
     "metadata": {},
     "output_type": "execute_result"
    }
   ],
   "source": [
    "N_samples = waypts.shape[0]\n",
    "min_pair_dist, t_sum = _check_waypoints(waypts, vlim)\n",
    "x = np.linspace(0, 0.3 * t_sum, N_samples)  # magic number\n",
    "path = ta.SplineInterpolator(x, waypts.copy(), bc_type=\"clamped\")\n",
    "pc_vel = constraint.JointVelocityConstraint(vlim)\n",
    "pc_acc = constraint.JointAccelerationConstraint(\n",
    "    alim, discretization_scheme=constraint.DiscretizationType.Interpolation\n",
    ")\n",
    "instance = algo.TOPPRA(\n",
    "    [pc_vel, pc_acc],\n",
    "    path,\n",
    "    # gridpoints=gridpoints,\n",
    "    solver_wrapper=\"seidel\",\n",
    ")\n",
    "jnt_traj = instance.compute_trajectory(0, 0)\n",
    "jnt_traj.cspl.x"
   ]
  },
  {
   "cell_type": "code",
   "execution_count": 16,
   "metadata": {},
   "outputs": [
    {
     "data": {
      "text/plain": [
       "(4.999999999999999, 2.841646833949905)"
      ]
     },
     "execution_count": 16,
     "metadata": {},
     "output_type": "execute_result"
    }
   ],
   "source": [
    "x_scale, x_max"
   ]
  },
  {
   "cell_type": "code",
   "execution_count": 57,
   "metadata": {},
   "outputs": [
    {
     "data": {
      "text/plain": [
       "array([0.00000000e+00, 3.65152340e-02, 5.37211333e-02, ...,\n",
       "       1.02156995e+02, 1.02169705e+02, 1.02196690e+02])"
      ]
     },
     "execution_count": 57,
     "metadata": {},
     "output_type": "execute_result"
    }
   ],
   "source": []
  },
  {
   "cell_type": "code",
   "execution_count": null,
   "metadata": {},
   "outputs": [],
   "source": []
  }
 ],
 "metadata": {
  "kernelspec": {
   "display_name": "Python 3",
   "language": "python",
   "name": "python3"
  },
  "language_info": {
   "codemirror_mode": {
    "name": "ipython",
    "version": 3
   },
   "file_extension": ".py",
   "mimetype": "text/x-python",
   "name": "python",
   "nbconvert_exporter": "python",
   "pygments_lexer": "ipython3",
   "version": "3.6.9"
  }
 },
 "nbformat": 4,
 "nbformat_minor": 4
}
