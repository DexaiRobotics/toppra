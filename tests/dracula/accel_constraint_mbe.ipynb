{
 "cells": [
  {
   "cell_type": "code",
   "execution_count": 19,
   "metadata": {},
   "outputs": [
    {
     "data": {
      "text/plain": [
       "[<matplotlib.lines.Line2D at 0x7f3bae3a74a8>,\n",
       " <matplotlib.lines.Line2D at 0x7f3bae3cbe80>,\n",
       " <matplotlib.lines.Line2D at 0x7f3bae3cbfd0>,\n",
       " <matplotlib.lines.Line2D at 0x7f3bae3580b8>,\n",
       " <matplotlib.lines.Line2D at 0x7f3bae358160>,\n",
       " <matplotlib.lines.Line2D at 0x7f3bae358208>,\n",
       " <matplotlib.lines.Line2D at 0x7f3bae3582b0>]"
      ]
     },
     "execution_count": 19,
     "metadata": {},
     "output_type": "execute_result"
    },
    {
     "data": {
      "image/png": "[encoded data removed]",
      "text/plain": [
       "<Figure size 720x432 with 1 Axes>"
      ]
     },
     "metadata": {
      "needs_background": "light"
     },
     "output_type": "display_data"
    }
   ],
   "source": [
    "import numpy as np\n",
    "import toppra as ta\n",
    "import toppra.algorithm as algo\n",
    "from toppra import constraint\n",
    "import matplotlib.pyplot as plt\n",
    "\n",
    "waypts = np.array([[-0.64142144, -1.48907971,  1.894104  , -2.2074306 ,  1.92707002,\n",
    "         1.50737071,  1.20313358],\n",
    "       [-0.64145738, -1.48909926,  1.89408648, -2.20745182,  1.92706716,\n",
    "         1.50738573,  1.20313358],\n",
    "       [-0.64145738, -1.48909926,  1.89408648, -2.20745182,  1.92706716,\n",
    "         1.50738573,  1.20313358],\n",
    "       [-0.64142966, -1.48908424,  1.89409995, -2.20743537,  1.92706931,\n",
    "         1.50737417,  1.20313358],\n",
    "       [-0.63920563, -1.48959816,  1.89454412, -2.2084074 ,  1.9284476 ,\n",
    "         1.51026404,  1.20470095],\n",
    "       [-0.63463145, -1.49070168,  1.89595389, -2.21121669,  1.93131077,\n",
    "         1.51618505,  1.2078774 ],\n",
    "       [-0.6278106 , -1.49234819,  1.89800382, -2.2152307 ,  1.93571103,\n",
    "         1.52499902,  1.21233833],\n",
    "       [-0.61042947, -1.49643397,  1.90333021, -2.22506738,  1.94692171,\n",
    "         1.54750407,  1.22376776],\n",
    "       [-0.57696438, -1.50457776,  1.91456592, -2.24278426,  1.96783555,\n",
    "         1.59136438,  1.24697554],\n",
    "       [-0.54576355, -1.51244676,  1.92596698, -2.25792789,  1.98712289,\n",
    "         1.63321686,  1.26982975],\n",
    "       [-0.52902359, -1.51683176,  1.93251836, -2.26542211,  1.99711704,\n",
    "         1.65592957,  1.28268933],\n",
    "       [-0.52094024, -1.51897228,  1.93576336, -2.26886582,  2.00186777,\n",
    "         1.66694438,  1.28901827],\n",
    "       [-0.51691443, -1.52007115,  1.9374156 , -2.27054   ,  2.0042026 ,\n",
    "         1.67247248,  1.29224515],\n",
    "       [-0.51555175, -1.5204109 ,  1.93802011, -2.27124834,  2.00526309,\n",
    "         1.67445993,  1.29325616]])\n",
    "vlim = np.array([[-2.175,  2.175],\n",
    "       [-2.175,  2.175],\n",
    "       [-2.175,  2.175],\n",
    "       [-2.175,  2.175],\n",
    "       [-2.61 ,  2.61 ],\n",
    "       [-2.61 ,  2.61 ],\n",
    "       [-2.61 ,  2.61 ]])\n",
    "alim = np.array([[-15. ,  15. ],\n",
    "       [ -7.5,   7.5],\n",
    "       [-10. ,  10. ],\n",
    "       [-12.5,  12.5],\n",
    "       [-15. ,  15. ],\n",
    "       [-20. ,  20. ],\n",
    "       [-20. ,  20. ]])\n",
    "fig, ax = plt.subplots(figsize=(10, 6))\n",
    "ax.plot(waypts, 'o-')"
   ]
  },
  {
   "cell_type": "code",
   "execution_count": 20,
   "metadata": {},
   "outputs": [],
   "source": [
    "path = ta.SplineInterpolator(np.linspace(0, 0.15, waypts.shape[0]), waypts)\n",
    "pc_vel = constraint.JointVelocityConstraint(vlim)\n",
    "pc_acc = constraint.JointAccelerationConstraint(alim)\n",
    "instance = algo.TOPPRA([pc_vel, pc_acc], path, solver_wrapper=\"seidel\")\n",
    "jnt_traj = instance.compute_trajectory(0, 0)"
   ]
  },
  {
   "cell_type": "code",
   "execution_count": 21,
   "metadata": {},
   "outputs": [
    {
     "name": "stdout",
     "output_type": "stream",
     "text": [
      "elements exceeding limit:\n",
      "[ 15.65610175  20.94790152  18.67345754  25.09828735  17.19680362\n",
      " -14.31188803  22.06135898  15.35339847 -15.57742397 -20.01138662\n",
      " -20.19835481]\n",
      "limit:\n",
      "[ 15.   20.   15.   20.   15.  -12.5  20.   15.  -15.  -20.  -20. ]\n"
     ]
    }
   ],
   "source": [
    "deriv = jnt_traj.evaldd(cs.x)\n",
    "i, j = np.where(~((alim[:, 0] < deriv) & (deriv < alim[:, 1])))\n",
    "signed_lim = np.where(deriv > 0, alim[:, 1], alim[:, 0])\n",
    "print(f'elements exceeding limit:\\n{deriv[i, j]}')\n",
    "print(f'limit:\\n{signed_lim[i, j]}')"
   ]
  }
 ],
 "metadata": {
  "kernelspec": {
   "display_name": "Python 3",
   "language": "python",
   "name": "python3"
  },
  "language_info": {
   "codemirror_mode": {
    "name": "ipython",
    "version": 3
   },
   "file_extension": ".py",
   "mimetype": "text/x-python",
   "name": "python",
   "nbconvert_exporter": "python",
   "pygments_lexer": "ipython3",
   "version": "3.6.9"
  }
 },
 "nbformat": 4,
 "nbformat_minor": 4
}
